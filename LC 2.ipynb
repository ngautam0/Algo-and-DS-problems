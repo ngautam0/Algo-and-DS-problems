{
 "cells": [
  {
   "cell_type": "markdown",
   "metadata": {},
   "source": [
    "# 2. Add Two Numbers"
   ]
  },
  {
   "cell_type": "markdown",
   "metadata": {},
   "source": [
    "You are given two non-empty linked lists representing two non-negative integers. The digits are stored in reverse order and each of their nodes contain a single digit. Add the two numbers and return it as a linked list.\n",
    "\n",
    "You may assume the two numbers do not contain any leading zero, except the number 0 itself.\n",
    "\n",
    "Example:\n",
    "```\n",
    "Input: (2 -> 4 -> 3) + (5 -> 6 -> 4)\n",
    "Output: 7 -> 0 -> 8\n",
    "Explanation: 342 + 465 = 807.\n",
    "```"
   ]
  },
  {
   "cell_type": "code",
   "execution_count": 1,
   "metadata": {},
   "outputs": [],
   "source": [
    "# Definition for singly-linked list.\n",
    "class ListNode:\n",
    "    def __init__(self, x):\n",
    "        self.val = x\n",
    "        self.next = None\n",
    "\n",
    "class Solution:\n",
    "    def addTwoNumbers(self, l1: ListNode, l2: ListNode) -> ListNode:\n",
    "        # 15 mins\n",
    "        carry = 0     \n",
    "        original_result = result = ListNode(0)\n",
    "        \n",
    "        while l1 and l2:\n",
    "            digit_sum = l1.val + l2.val + carry\n",
    "            carry = 0\n",
    "            \n",
    "            if digit_sum > 9:\n",
    "                digit_sum = digit_sum % 10\n",
    "                carry = 1\n",
    "            \n",
    "            result.val = digit_sum\n",
    "            \n",
    "            l1 = l1.next\n",
    "            l2 = l2.next\n",
    "            \n",
    "            if l1 and l2:\n",
    "                result.next = ListNode(0)\n",
    "                result = result.next\n",
    "            \n",
    "        remaining_list = None\n",
    "        \n",
    "        \n",
    "        if l1:\n",
    "            remaining_list = l1\n",
    "        elif l2:\n",
    "            remaining_list = l2\n",
    "        \n",
    "        if remaining_list:\n",
    "            result.next = ListNode(0)\n",
    "            result = result.next\n",
    "            \n",
    "            \n",
    "        while remaining_list:\n",
    "            digit_sum = remaining_list.val + carry\n",
    "            carry = 0\n",
    "            if digit_sum > 9:\n",
    "                digit_sum = digit_sum % 10\n",
    "                carry = 1\n",
    "            \n",
    "            result.val = digit_sum\n",
    "            \n",
    "            remaining_list = remaining_list.next\n",
    "            if remaining_list:\n",
    "                result.next = ListNode(0)\n",
    "                result = result.next\n",
    "            \n",
    "        \n",
    "        if carry:\n",
    "            result.next = ListNode(carry)\n",
    "        \n",
    "        return original_result\n",
    "            \n",
    "            \n",
    "            \n",
    "        "
   ]
  }
 ],
 "metadata": {
  "kernelspec": {
   "display_name": "Python 3",
   "language": "python",
   "name": "python3"
  },
  "language_info": {
   "codemirror_mode": {
    "name": "ipython",
    "version": 3
   },
   "file_extension": ".py",
   "mimetype": "text/x-python",
   "name": "python",
   "nbconvert_exporter": "python",
   "pygments_lexer": "ipython3",
   "version": "3.6.9"
  }
 },
 "nbformat": 4,
 "nbformat_minor": 4
}
