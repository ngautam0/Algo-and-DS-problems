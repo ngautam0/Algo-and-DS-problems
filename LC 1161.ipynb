{
 "cells": [
  {
   "cell_type": "markdown",
   "metadata": {},
   "source": [
    "# 1161. Maximum Level Sum of a Binary Tree"
   ]
  },
  {
   "cell_type": "markdown",
   "metadata": {},
   "source": [
    "Given the root of a binary tree, the level of its root is 1, the level of its children is 2, and so on.\n",
    "\n",
    "Return the smallest level X such that the sum of all the values of nodes at level X is maximal.\n",
    "\n",
    " \n",
    "```\n",
    "Example 1:\n",
    "\n",
    "\n",
    "\n",
    "Input: [1,7,0,7,-8,null,null]\n",
    "Output: 2\n",
    "Explanation: \n",
    "Level 1 sum = 1.\n",
    "Level 2 sum = 7 + 0 = 7.\n",
    "Level 3 sum = 7 + -8 = -1.\n",
    "So we return the level with the maximum sum which is level 2.\n",
    " \n",
    "\n",
    "Note:\n",
    "\n",
    "The number of nodes in the given tree is between 1 and 10^4.\n",
    "-10^5 <= node.val <= 10^5\n",
    "```"
   ]
  },
  {
   "cell_type": "code",
   "execution_count": 1,
   "metadata": {},
   "outputs": [],
   "source": [
    "# Definition for a binary tree node.\n",
    "class TreeNode:\n",
    "    def __init__(self, x):\n",
    "        self.val = x\n",
    "        self.left = None\n",
    "        self.right = None\n",
    "\n",
    "class Solution:\n",
    "    # 9:41 - 9:49\n",
    "    def maxLevelSum(self, root: TreeNode) -> int:\n",
    "        self.sum_level_dict = dict()\n",
    "        self.calcSumRecursiverly(root, 1)\n",
    "        max_element = self.sum_level_dict[1]\n",
    "        max_level = 1\n",
    "        \n",
    "        for key in self.sum_level_dict:\n",
    "            if max_element < self.sum_level_dict[key]:\n",
    "                max_element = self.sum_level_dict[key]\n",
    "                max_level = key\n",
    "        \n",
    "        return max_level\n",
    "    \n",
    "    def calcSumRecursiverly(self, root, level):\n",
    "        if not root:\n",
    "            return\n",
    "        \n",
    "        if self.sum_level_dict.get(level):\n",
    "            self.sum_level_dict[level] += root.val\n",
    "        else:\n",
    "            self.sum_level_dict[level] = root.val\n",
    "            \n",
    "        self.calcSumRecursiverly(root.left, level+1)\n",
    "        self.calcSumRecursiverly(root.right, level+1)\n",
    "        \n",
    "        \n",
    "        "
   ]
  }
 ],
 "metadata": {
  "kernelspec": {
   "display_name": "Python 3",
   "language": "python",
   "name": "python3"
  },
  "language_info": {
   "codemirror_mode": {
    "name": "ipython",
    "version": 3
   },
   "file_extension": ".py",
   "mimetype": "text/x-python",
   "name": "python",
   "nbconvert_exporter": "python",
   "pygments_lexer": "ipython3",
   "version": "3.6.9"
  }
 },
 "nbformat": 4,
 "nbformat_minor": 4
}
