{
 "cells": [
  {
   "cell_type": "markdown",
   "metadata": {},
   "source": [
    "# 763. Partition Labels"
   ]
  },
  {
   "cell_type": "markdown",
   "metadata": {},
   "source": [
    "A string S of lowercase letters is given. We want to partition this string into as many parts as possible so that each letter appears in at most one part, and return a list of integers representing the size of these parts.\n",
    "```\n",
    "Example 1:\n",
    "Input: S = \"ababcbacadefegdehijhklij\"\n",
    "Output: [9,7,8]\n",
    "Explanation:\n",
    "The partition is \"ababcbaca\", \"defegde\", \"hijhklij\".\n",
    "This is a partition so that each letter appears in at most one part.\n",
    "A partition like \"ababcbacadefegde\", \"hijhklij\" is incorrect, because it splits S into less parts.\n",
    "```"
   ]
  },
  {
   "cell_type": "code",
   "execution_count": 1,
   "metadata": {},
   "outputs": [],
   "source": [
    "from typing import List\n",
    "class Solution:\n",
    "    def partitionLabels(self, S: str) -> List[int]:\n",
    "        \n",
    "        freq = self.createFrequencyDict(S)\n",
    "        partition = []\n",
    "        current_list = []\n",
    "        \n",
    "        for each in S:\n",
    "            \n",
    "            current_list.append(each)\n",
    "            freq[each] -= 1\n",
    "            \n",
    "            for chars in current_list:\n",
    "                if freq[chars] != 0:\n",
    "                    break\n",
    "            else:\n",
    "                partition.append(len(current_list))\n",
    "                current_list = []\n",
    "        \n",
    "        return partition\n",
    "    \n",
    "    def createFrequencyDict(self, S):\n",
    "        freq = dict()\n",
    "        for each in S:\n",
    "            if freq.get(each):\n",
    "                freq[each] += 1\n",
    "            else:\n",
    "                freq[each] = 1\n",
    "        \n",
    "        return freq"
   ]
  },
  {
   "cell_type": "code",
   "execution_count": null,
   "metadata": {},
   "outputs": [],
   "source": []
  }
 ],
 "metadata": {
  "kernelspec": {
   "display_name": "Python 3",
   "language": "python",
   "name": "python3"
  },
  "language_info": {
   "codemirror_mode": {
    "name": "ipython",
    "version": 3
   },
   "file_extension": ".py",
   "mimetype": "text/x-python",
   "name": "python",
   "nbconvert_exporter": "python",
   "pygments_lexer": "ipython3",
   "version": "3.7.5"
  }
 },
 "nbformat": 4,
 "nbformat_minor": 4
}
