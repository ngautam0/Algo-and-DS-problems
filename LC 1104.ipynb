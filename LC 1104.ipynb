{
 "cells": [
  {
   "cell_type": "markdown",
   "metadata": {},
   "source": [
    "# 1104. Path In Zigzag Labelled Binary Tree"
   ]
  },
  {
   "cell_type": "markdown",
   "metadata": {},
   "source": [
    "In an infinite binary tree where every node has two children, the nodes are labelled in row order.\n",
    "\n",
    "In the odd numbered rows (ie., the first, third, fifth,...), the labelling is left to right, while in the even numbered rows (second, fourth, sixth,...), the labelling is right to left.\n",
    "\n",
    "\n",
    "\n",
    "Given the label of a node in this tree, return the labels in the path from the root of the tree to the node with that label.\n",
    "\n",
    " \n",
    "```\n",
    "Example 1:\n",
    "\n",
    "Input: label = 14\n",
    "Output: [1,3,4,14]\n",
    "Example 2:\n",
    "\n",
    "Input: label = 26\n",
    "Output: [1,2,6,10,26]\n",
    "```"
   ]
  },
  {
   "cell_type": "code",
   "execution_count": 1,
   "metadata": {},
   "outputs": [],
   "source": [
    "from typing import List\n",
    "class Solution:\n",
    "    def pathInZigZagTree(self, label: int) -> List[int]:\n",
    "        \n",
    "        # 25 mins\n",
    "        \n",
    "        def find_level(label):\n",
    "            level = 0\n",
    "            while label != 1:\n",
    "                label //= 2\n",
    "                level += 1\n",
    "            return level + 1\n",
    "                \n",
    "                \n",
    "                \n",
    "        original_label = label\n",
    "        level = find_level(label)\n",
    "        path = []\n",
    "        parent_index = None\n",
    "        \n",
    "        if level % 2:\n",
    "            element = 2 ** (level-1)\n",
    "        else:\n",
    "            element = (2 ** level) - 1\n",
    "            \n",
    "        while level > 0:\n",
    "            \n",
    "            \n",
    "            if parent_index != None:\n",
    "                if level % 2:\n",
    "                    element = 2 ** (level-1)\n",
    "                    label = element + parent_index\n",
    "                else:\n",
    "                    element = (2 ** level) - 1\n",
    "                    label = element - parent_index\n",
    "                \n",
    "                path.append(label)\n",
    "\n",
    "            parent_index = abs(label - element) // 2\n",
    "                \n",
    "            level = level-1\n",
    "        \n",
    "        reversed_path = path[::-1]\n",
    "        reversed_path.append(original_label)\n",
    "        \n",
    "        return reversed_path\n",
    "            \n",
    "            \n",
    "        "
   ]
  }
 ],
 "metadata": {
  "kernelspec": {
   "display_name": "Python 3",
   "language": "python",
   "name": "python3"
  },
  "language_info": {
   "codemirror_mode": {
    "name": "ipython",
    "version": 3
   },
   "file_extension": ".py",
   "mimetype": "text/x-python",
   "name": "python",
   "nbconvert_exporter": "python",
   "pygments_lexer": "ipython3",
   "version": "3.6.9"
  }
 },
 "nbformat": 4,
 "nbformat_minor": 4
}
