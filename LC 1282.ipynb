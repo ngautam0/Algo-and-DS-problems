{
 "cells": [
  {
   "cell_type": "markdown",
   "metadata": {},
   "source": [
    "# 1282. Group the People Given the Group Size They Belong To"
   ]
  },
  {
   "cell_type": "markdown",
   "metadata": {},
   "source": [
    "There are n people whose IDs go from 0 to n - 1 and each person belongs exactly to one group. Given the array groupSizes of length n telling the group size each person belongs to, return the groups there are and the people's IDs each group includes.\n",
    "\n",
    "You can return any solution in any order and the same applies for IDs. Also, it is guaranteed that there exists at least one solution. "
   ]
  },
  {
   "cell_type": "markdown",
   "metadata": {},
   "source": [
    "Example 1:\n",
    "```\n",
    "Input: groupSizes = [3,3,3,3,3,1,3]\n",
    "Output: [[5],[0,1,2],[3,4,6]]\n",
    "Explanation: \n",
    "Other possible solutions are [[2,1,6],[5],[0,4,3]] and [[5],[0,6,2],[4,3,1]].\n",
    "```\n",
    "\n",
    "Example 2:\n",
    "```\n",
    "Input: groupSizes = [2,1,3,3,3,2]\n",
    "Output: [[1],[0,5],[2,3,4]]\n",
    "```"
   ]
  },
  {
   "cell_type": "code",
   "execution_count": 1,
   "metadata": {},
   "outputs": [],
   "source": [
    "def groupThePeople(groupSizes):\n",
    "    group_dictionary = dict()\n",
    "\n",
    "    for index, value in enumerate(groupSizes):\n",
    "        if group_dictionary.get(value):\n",
    "            updated_list = append(group_dictionary[value], value, index)\n",
    "            group_dictionary[value] = updated_list\n",
    "\n",
    "        else:\n",
    "            group_dictionary[value] = [[index]]\n",
    "\n",
    "    result = []\n",
    "\n",
    "    for each in group_dictionary:\n",
    "        result.extend(group_dictionary[each])\n",
    "\n",
    "    return result"
   ]
  },
  {
   "cell_type": "code",
   "execution_count": 2,
   "metadata": {},
   "outputs": [],
   "source": [
    "def append(lists, maxSize, index):\n",
    "\n",
    "    if len(lists[-1]) == maxSize:\n",
    "        lists.append([index])\n",
    "    else:\n",
    "        lists[-1].append(index)\n",
    "\n",
    "    return lists"
   ]
  },
  {
   "cell_type": "code",
   "execution_count": 3,
   "metadata": {},
   "outputs": [
    {
     "data": {
      "text/plain": [
       "[[0, 1, 2], [3, 4, 6], [5]]"
      ]
     },
     "execution_count": 3,
     "metadata": {},
     "output_type": "execute_result"
    }
   ],
   "source": [
    "groupThePeople([3,3,3,3,3,1,3])"
   ]
  }
 ],
 "metadata": {
  "kernelspec": {
   "display_name": "Python 3",
   "language": "python",
   "name": "python3"
  },
  "language_info": {
   "codemirror_mode": {
    "name": "ipython",
    "version": 3
   },
   "file_extension": ".py",
   "mimetype": "text/x-python",
   "name": "python",
   "nbconvert_exporter": "python",
   "pygments_lexer": "ipython3",
   "version": "3.6.9"
  }
 },
 "nbformat": 4,
 "nbformat_minor": 4
}
