{
 "cells": [
  {
   "cell_type": "markdown",
   "metadata": {},
   "source": [
    "# 654. Maximum Binary Tree"
   ]
  },
  {
   "cell_type": "markdown",
   "metadata": {},
   "source": [
    "Given an integer array with no duplicates. A maximum tree building on this array is defined as follow:\n",
    "\n",
    "The root is the maximum number in the array.\n",
    "The left subtree is the maximum tree constructed from left part subarray divided by the maximum number.\n",
    "The right subtree is the maximum tree constructed from right part subarray divided by the maximum number.\n",
    "Construct the maximum tree by the given array and output the root node of this tree.\n",
    "```\n",
    "Example 1:\n",
    "Input: [3,2,1,6,0,5]\n",
    "Output: return the tree root node representing the following tree:\n",
    "\n",
    "      6\n",
    "    /   \\\n",
    "   3     5\n",
    "    \\    / \n",
    "     2  0   \n",
    "       \\\n",
    "        1\n",
    "```"
   ]
  },
  {
   "cell_type": "code",
   "execution_count": 1,
   "metadata": {},
   "outputs": [],
   "source": [
    "from typing import List\n",
    "# Definition for a binary tree node.\n",
    "class TreeNode:\n",
    "    def __init__(self, x):\n",
    "        self.val = x\n",
    "        self.left = None\n",
    "        self.right = None\n",
    "\n",
    "class Solution:\n",
    "    def constructMaximumBinaryTree(self, nums: List[int]) -> TreeNode:\n",
    "        if not nums:\n",
    "            return\n",
    "        \n",
    "        max_num = max(nums)\n",
    "        max_index = nums.index(max_num)\n",
    "        root = TreeNode(max_num)\n",
    "        \n",
    "        root.left = self.constructMaximumBinaryTree(nums[0:max_index])\n",
    "        root.right = self.constructMaximumBinaryTree(nums[max_index+1 : ])\n",
    "        \n",
    "        return root\n",
    "        \n",
    "        "
   ]
  }
 ],
 "metadata": {
  "kernelspec": {
   "display_name": "Python 3",
   "language": "python",
   "name": "python3"
  },
  "language_info": {
   "codemirror_mode": {
    "name": "ipython",
    "version": 3
   },
   "file_extension": ".py",
   "mimetype": "text/x-python",
   "name": "python",
   "nbconvert_exporter": "python",
   "pygments_lexer": "ipython3",
   "version": "3.7.5"
  }
 },
 "nbformat": 4,
 "nbformat_minor": 4
}
