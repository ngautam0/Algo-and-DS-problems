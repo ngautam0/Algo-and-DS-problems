{
 "cells": [
  {
   "cell_type": "markdown",
   "metadata": {},
   "source": [
    "# 1302. Deepest Leaves Sum"
   ]
  },
  {
   "cell_type": "markdown",
   "metadata": {},
   "source": [
    "Given a binary tree, return the sum of values of its deepest leaves."
   ]
  },
  {
   "cell_type": "markdown",
   "metadata": {},
   "source": [
    "### First Attempt"
   ]
  },
  {
   "cell_type": "code",
   "execution_count": 1,
   "metadata": {},
   "outputs": [],
   "source": [
    "# Definition for a binary tree node.\n",
    "class TreeNode:\n",
    "    def __init__(self, x):\n",
    "        self.val = x\n",
    "        self.left = None\n",
    "        self.right = None\n",
    "\n",
    "class Solution:\n",
    "    def deepestLeavesSum(self, root: TreeNode) -> int:\n",
    "        self.total = 0\n",
    "        self.max_level = 0\n",
    "        self.calcMaxLevel(root)\n",
    "        self.calcSumRecursively(root)\n",
    "        \n",
    "        return self.total\n",
    "    \n",
    "    def calcSumRecursively(self, root: TreeNode, level = 0):\n",
    "        if not root:\n",
    "            return\n",
    "        \n",
    "        if level == self.max_level:\n",
    "            self.total += root.val\n",
    "            \n",
    "        self.calcSumRecursively(root.left, level+1)\n",
    "        self.calcSumRecursively(root.right, level + 1)\n",
    "        \n",
    "        return\n",
    "    \n",
    "    def calcMaxLevel(self, root:TreeNode, level = 0):\n",
    "        if not root:\n",
    "            return\n",
    "        \n",
    "        if self.max_level < level:\n",
    "            self.max_level = level\n",
    "        \n",
    "        self.calcMaxLevel(root.left, level + 1)\n",
    "        self.calcMaxLevel(root.right, level + 1)"
   ]
  },
  {
   "cell_type": "markdown",
   "metadata": {},
   "source": [
    "### Second Attempt"
   ]
  },
  {
   "cell_type": "code",
   "execution_count": 2,
   "metadata": {},
   "outputs": [],
   "source": [
    "# Definition for a binary tree node.\n",
    "class TreeNode:\n",
    "    def __init__(self, x):\n",
    "        self.val = x\n",
    "        self.left = None\n",
    "        self.right = None\n",
    "\n",
    "class Solution:\n",
    "    def deepestLeavesSum(self, root: TreeNode) -> int:\n",
    "        self.total = 0\n",
    "        self.max_level = 0\n",
    "        self.calcSumRecursively(root)\n",
    "        \n",
    "        return self.total\n",
    "    \n",
    "    def calcSumRecursively(self, root: TreeNode, level = 0):\n",
    "        if not root:\n",
    "            return\n",
    "        \n",
    "        if self.max_level < level:\n",
    "            self.max_level = level\n",
    "            self.total = 0\n",
    "            \n",
    "        self.calcSumRecursively(root.left, level+1)\n",
    "        self.calcSumRecursively(root.right, level + 1)\n",
    "        \n",
    "        if self.max_level == level:\n",
    "            self.total += root.val\n",
    "        \n",
    "        return\n",
    "        "
   ]
  }
 ],
 "metadata": {
  "kernelspec": {
   "display_name": "Python 3",
   "language": "python",
   "name": "python3"
  },
  "language_info": {
   "codemirror_mode": {
    "name": "ipython",
    "version": 3
   },
   "file_extension": ".py",
   "mimetype": "text/x-python",
   "name": "python",
   "nbconvert_exporter": "python",
   "pygments_lexer": "ipython3",
   "version": "3.7.5"
  }
 },
 "nbformat": 4,
 "nbformat_minor": 4
}
