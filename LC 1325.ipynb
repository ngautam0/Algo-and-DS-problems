{
 "cells": [
  {
   "cell_type": "markdown",
   "metadata": {},
   "source": [
    "# 1325. Delete Leaves With a Given Value"
   ]
  },
  {
   "cell_type": "markdown",
   "metadata": {},
   "source": [
    "Given a binary tree root and an integer target, delete all the leaf nodes with value target.\n",
    "\n",
    "Note that once you delete a leaf node with value target, if it's parent node becomes a leaf node and has the value target, it should also be deleted (you need to continue doing that until you can't).\n",
    "\n",
    "```\n",
    "\n",
    "Example 1:\n",
    "\n",
    "\n",
    "\n",
    "Input: root = [1,2,3,2,null,2,4], target = 2\n",
    "Output: [1,null,3,null,4]\n",
    "Explanation: Leaf nodes in green with value (target = 2) are removed (Picture in left). \n",
    "After removing, new nodes become leaf nodes with value (target = 2) (Picture in center).\n",
    "Example 2:\n",
    "\n",
    "\n",
    "\n",
    "Input: root = [1,3,3,3,2], target = 3\n",
    "Output: [1,3,null,null,2]\n",
    "Example 3:\n",
    "\n",
    "\n",
    "\n",
    "Input: root = [1,2,null,2,null,2], target = 2\n",
    "Output: [1]\n",
    "Explanation: Leaf nodes in green with value (target = 2) are removed at each step.\n",
    "Example 4:\n",
    "\n",
    "Input: root = [1,1,1], target = 1\n",
    "Output: []\n",
    "Example 5:\n",
    "\n",
    "Input: root = [1,2,3], target = 1\n",
    "Output: [1,2,3]\n",
    " \n",
    "```\n",
    "Constraints:\n",
    "```\n",
    "1 <= target <= 1000\n",
    "Each tree has at most 3000 nodes.\n",
    "Each node's value is between [1, 1000].\n",
    "```"
   ]
  },
  {
   "cell_type": "code",
   "execution_count": 1,
   "metadata": {},
   "outputs": [],
   "source": [
    "# Definition for a binary tree node.\n",
    "class TreeNode:\n",
    "    def __init__(self, x):\n",
    "        self.val = x\n",
    "        self.left = None\n",
    "        self.right = None\n",
    "\n",
    "class Solution:\n",
    "    def removeLeafNodes(self, root: TreeNode, target: int) -> TreeNode:\n",
    "        self.recurseAndDelete(root, root, target)\n",
    "        \n",
    "        if root.val == target and not root.left and not root.right:\n",
    "            root = None\n",
    "        \n",
    "        return root\n",
    "    \n",
    "    def recurseAndDelete(self, root, parent, target):\n",
    "        \n",
    "        if not root:\n",
    "            return False\n",
    "        \n",
    "        self.recurseAndDelete(root.left, root, target)\n",
    "        self.recurseAndDelete(root.right, root, target)\n",
    "        \n",
    "        if root.val == target and not root.left and not root.right:\n",
    "            if parent.left == root:\n",
    "                parent.left = None\n",
    "            else:\n",
    "                parent.right = None                \n",
    "        \n",
    "        "
   ]
  }
 ],
 "metadata": {
  "kernelspec": {
   "display_name": "Python 3",
   "language": "python",
   "name": "python3"
  },
  "language_info": {
   "codemirror_mode": {
    "name": "ipython",
    "version": 3
   },
   "file_extension": ".py",
   "mimetype": "text/x-python",
   "name": "python",
   "nbconvert_exporter": "python",
   "pygments_lexer": "ipython3",
   "version": "3.7.5"
  }
 },
 "nbformat": 4,
 "nbformat_minor": 4
}
