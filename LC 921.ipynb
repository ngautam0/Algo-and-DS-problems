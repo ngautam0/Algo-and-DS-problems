{
 "cells": [
  {
   "cell_type": "markdown",
   "metadata": {},
   "source": [
    "# 921. Minimum Add to Make Parentheses Valid"
   ]
  },
  {
   "cell_type": "markdown",
   "metadata": {},
   "source": [
    "Given a string S of '(' and ')' parentheses, we add the minimum number of parentheses ( '(' or ')', and in any positions ) so that the resulting parentheses string is valid.\n",
    "\n",
    "Formally, a parentheses string is valid if and only if:\n",
    "\n",
    "It is the empty string, or\n",
    "It can be written as AB (A concatenated with B), where A and B are valid strings, or\n",
    "It can be written as (A), where A is a valid string.\n",
    "Given a parentheses string, return the minimum number of parentheses we must add to make the resulting string valid.\n",
    "\n",
    " ```\n",
    "\n",
    "Example 1:\n",
    "\n",
    "Input: \"())\"\n",
    "Output: 1\n",
    "Example 2:\n",
    "\n",
    "Input: \"(((\"\n",
    "Output: 3\n",
    "Example 3:\n",
    "\n",
    "Input: \"()\"\n",
    "Output: 0\n",
    "Example 4:\n",
    "\n",
    "Input: \"()))((\"\n",
    "Output: 4\n",
    " \n",
    "\n",
    "Note:\n",
    "\n",
    "S.length <= 1000\n",
    "S only consists of '(' and ')' characters.\n",
    "```"
   ]
  },
  {
   "cell_type": "code",
   "execution_count": 1,
   "metadata": {},
   "outputs": [],
   "source": [
    "class Solution:\n",
    "    def minAddToMakeValid(self, S: str) -> int:\n",
    "        stack = []\n",
    "        \n",
    "        for each in S:\n",
    "            \n",
    "            if each == '(':\n",
    "                stack.append(each)\n",
    "                \n",
    "            else:\n",
    "                if stack and stack[-1] == '(':\n",
    "                    stack.pop()\n",
    "                else:\n",
    "                    stack.append(each)\n",
    "        \n",
    "        return len(stack)"
   ]
  }
 ],
 "metadata": {
  "kernelspec": {
   "display_name": "Python 3",
   "language": "python",
   "name": "python3"
  },
  "language_info": {
   "codemirror_mode": {
    "name": "ipython",
    "version": 3
   },
   "file_extension": ".py",
   "mimetype": "text/x-python",
   "name": "python",
   "nbconvert_exporter": "python",
   "pygments_lexer": "ipython3",
   "version": "3.6.9"
  }
 },
 "nbformat": 4,
 "nbformat_minor": 4
}
