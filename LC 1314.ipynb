{
 "cells": [
  {
   "cell_type": "markdown",
   "metadata": {},
   "source": [
    "# 1314. Matrix Block Sum"
   ]
  },
  {
   "cell_type": "markdown",
   "metadata": {},
   "source": [
    "Given a m * n matrix mat and an integer K, return a matrix answer where each answer[i][j] is the sum of all elements mat[r][c] for i - K <= r <= i + K, j - K <= c <= j + K, and (r, c) is a valid position in the matrix.\n",
    " \n",
    "```\n",
    "Example 1:\n",
    "\n",
    "Input: mat = [[1,2,3],[4,5,6],[7,8,9]], K = 1\n",
    "Output: [[12,21,16],[27,45,33],[24,39,28]]\n",
    "Example 2:\n",
    "\n",
    "Input: mat = [[1,2,3],[4,5,6],[7,8,9]], K = 2\n",
    "Output: [[45,45,45],[45,45,45],[45,45,45]]\n",
    " \n",
    "\n",
    "Constraints:\n",
    "\n",
    "m == mat.length\n",
    "n == mat[i].length\n",
    "1 <= m, n, K <= 100\n",
    "1 <= mat[i][j] <= 100\n",
    "```"
   ]
  },
  {
   "cell_type": "code",
   "execution_count": 1,
   "metadata": {},
   "outputs": [],
   "source": [
    "from typing import List\n",
    "import numpy\n",
    "\n",
    "class Solution:\n",
    "    def matrixBlockSum(self, mat: List[List[int]], K: int) -> List[List[int]]:\n",
    "        \n",
    "        result = []\n",
    "        mat_numpy = numpy.array(mat)\n",
    "        max_rows = len(mat) - 1\n",
    "        max_cols = len(mat[0]) - 1\n",
    "        cache = dict()\n",
    "        \n",
    "        for r_index, row in enumerate(mat):\n",
    "            row_result = []\n",
    "            row_min = r_index - K\n",
    "            row_max = r_index + K\n",
    "            if row_min < 0:\n",
    "                    row_min = 0\n",
    "            if row_max > max_rows:\n",
    "                row_max = max_rows\n",
    "\n",
    "            for c_index, _ in enumerate(row):\n",
    "                \n",
    "                col_min = c_index - K\n",
    "                col_max = c_index + K\n",
    "                \n",
    "                \n",
    "                if col_min < 0:\n",
    "                    col_min = 0\n",
    "                if col_max > max_cols:\n",
    "                    col_max = max_cols\n",
    "                \n",
    "                cache_keys = str(row_min) + str(row_max) +  str(col_min) + str(col_max) \n",
    "                \n",
    "                if cache.get(cache_keys):\n",
    "                    row_result.append(cache[cache_keys])\n",
    "                else:\n",
    "                    temp_result = numpy.sum(mat_numpy[row_min:row_max+1, col_min:col_max+1])\n",
    "                    cache[cache_keys] = temp_result\n",
    "                    row_result.append(temp_result)\n",
    "            \n",
    "            result.append(row_result)\n",
    "        \n",
    "        return result"
   ]
  }
 ],
 "metadata": {
  "kernelspec": {
   "display_name": "Python 3",
   "language": "python",
   "name": "python3"
  },
  "language_info": {
   "codemirror_mode": {
    "name": "ipython",
    "version": 3
   },
   "file_extension": ".py",
   "mimetype": "text/x-python",
   "name": "python",
   "nbconvert_exporter": "python",
   "pygments_lexer": "ipython3",
   "version": "3.6.9"
  }
 },
 "nbformat": 4,
 "nbformat_minor": 4
}
