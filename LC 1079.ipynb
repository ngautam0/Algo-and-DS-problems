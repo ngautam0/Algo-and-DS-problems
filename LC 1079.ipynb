{
 "cells": [
  {
   "cell_type": "markdown",
   "metadata": {},
   "source": [
    "# 1079. Letter Tile Possibilities"
   ]
  },
  {
   "cell_type": "markdown",
   "metadata": {},
   "source": [
    "You have a set of tiles, where each tile has one letter tiles[i] printed on it.  Return the number of possible non-empty sequences of letters you can make.\n",
    "\n",
    " \n",
    "```\n",
    "Example 1:\n",
    "\n",
    "Input: \"AAB\"\n",
    "Output: 8\n",
    "Explanation: The possible sequences are \"A\", \"B\", \"AA\", \"AB\", \"BA\", \"AAB\", \"ABA\", \"BAA\".\n",
    "Example 2:\n",
    "\n",
    "Input: \"AAABBC\"\n",
    "Output: 188\n",
    "```"
   ]
  },
  {
   "cell_type": "code",
   "execution_count": 1,
   "metadata": {},
   "outputs": [],
   "source": [
    "class Solution:\n",
    "    def numTilePossibilities(self, tiles: str) -> int:\n",
    "        self.subsets = set()\n",
    "        self.finalSets = set()\n",
    "        \n",
    "        self.calcTotalNumberSubsets(tiles)\n",
    "        \n",
    "        count_ways = 0\n",
    "        for each in self.subsets:\n",
    "            self.finalSets.add(''.join(sorted(each)))\n",
    "            \n",
    "        for each in self.finalSets:\n",
    "            if each:\n",
    "                count_ways += self.countPermutation(each)\n",
    "        \n",
    "        return count_ways\n",
    "                \n",
    "    def calcTotalNumberSubsets(self, tiles: str, subset=\"\") -> int:\n",
    "        if not tiles:\n",
    "            self.subsets.add(subset)\n",
    "            return\n",
    "        \n",
    "        self.calcTotalNumberSubsets(tiles[1:], subset + \"\")\n",
    "        self.calcTotalNumberSubsets(tiles[1:], subset + tiles[0])\n",
    "    \n",
    "    def countPermutation(self, string):\n",
    "        frequency = dict()\n",
    "        \n",
    "        for each in string:\n",
    "            if frequency.get(each):\n",
    "                frequency[each] += 1\n",
    "            else:\n",
    "                frequency[each] = 1\n",
    "        \n",
    "        numerator = self.factorial(len(string))\n",
    "        denominator = 1\n",
    "        \n",
    "        for each in frequency:\n",
    "            denominator *= self.factorial(frequency[each])\n",
    "        \n",
    "        return numerator // denominator\n",
    "        \n",
    "    def factorial(self, number):\n",
    "        fact = 1\n",
    "        \n",
    "        for each in range(1, number+1):\n",
    "            fact = fact * each\n",
    "        \n",
    "        return fact  "
   ]
  }
 ],
 "metadata": {
  "kernelspec": {
   "display_name": "Python 3",
   "language": "python",
   "name": "python3"
  },
  "language_info": {
   "codemirror_mode": {
    "name": "ipython",
    "version": 3
   },
   "file_extension": ".py",
   "mimetype": "text/x-python",
   "name": "python",
   "nbconvert_exporter": "python",
   "pygments_lexer": "ipython3",
   "version": "3.7.5"
  }
 },
 "nbformat": 4,
 "nbformat_minor": 4
}
