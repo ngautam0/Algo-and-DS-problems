{
 "cells": [
  {
   "cell_type": "markdown",
   "metadata": {},
   "source": [
    "# 807. Max Increase to Keep City Skyline\n"
   ]
  },
  {
   "cell_type": "markdown",
   "metadata": {},
   "source": [
    "In a 2 dimensional array grid, each value grid[i][j] represents the height of a building located there. We are allowed to increase the height of any number of buildings, by any amount (the amounts can be different for different buildings). Height 0 is considered to be a building as well. \n",
    "\n",
    "At the end, the \"skyline\" when viewed from all four directions of the grid, i.e. top, bottom, left, and right, must be the same as the skyline of the original grid. A city's skyline is the outer contour of the rectangles formed by all the buildings when viewed from a distance. See the following example.\n",
    "\n",
    "What is the maximum total sum that the height of the buildings can be increased?"
   ]
  },
  {
   "cell_type": "markdown",
   "metadata": {},
   "source": [
    "```\n",
    "Example:\n",
    "Input: grid = [[3,0,8,4],[2,4,5,7],[9,2,6,3],[0,3,1,0]]\n",
    "Output: 35\n",
    "Explanation: \n",
    "The grid is:\n",
    "[ [3, 0, 8, 4], \n",
    "  [2, 4, 5, 7],\n",
    "  [9, 2, 6, 3],\n",
    "  [0, 3, 1, 0] ]\n",
    "\n",
    "The skyline viewed from top or bottom is: [9, 4, 8, 7]\n",
    "The skyline viewed from left or right is: [8, 7, 9, 3]\n",
    "\n",
    "The grid after increasing the height of buildings without affecting skylines is:\n",
    "\n",
    "gridNew = [ [8, 4, 8, 7],\n",
    "            [7, 4, 7, 7],\n",
    "            [9, 4, 8, 7],\n",
    "            [3, 3, 3, 3] ]\n",
    "```"
   ]
  },
  {
   "cell_type": "code",
   "execution_count": 1,
   "metadata": {},
   "outputs": [],
   "source": [
    "from typing import List"
   ]
  },
  {
   "cell_type": "code",
   "execution_count": 2,
   "metadata": {},
   "outputs": [],
   "source": [
    "class Solution:\n",
    "    def maxIncreaseKeepingSkyline(self, grid: List[List[int]]) -> int:\n",
    "        \n",
    "        max_in_rows = dict()\n",
    "        max_in_cols = dict()\n",
    "        \n",
    "        max_total_sum = 0\n",
    "        \n",
    "        for index, row in enumerate(grid):\n",
    "            max_in_rows[index] = max(row)\n",
    "            \n",
    "            for index, value in enumerate(row):\n",
    "                max_in_cols[index] = self.maxWithNoneSupport(value, max_in_cols.get(index))\n",
    "        \n",
    "        for r_index, row in enumerate(grid):\n",
    "            for c_index, value in enumerate(row):\n",
    "                max_total_sum += min(max_in_rows[r_index], max_in_cols[c_index]) - value\n",
    "        \n",
    "        return max_total_sum   \n",
    "    \n",
    "    def maxWithNoneSupport(self, number_a: int, number_b: any) -> int:\n",
    "        \n",
    "        if number_b == None:\n",
    "            return number_a\n",
    "        else:\n",
    "            return max(number_a, number_b)\n",
    "        "
   ]
  }
 ],
 "metadata": {
  "kernelspec": {
   "display_name": "Python 3",
   "language": "python",
   "name": "python3"
  },
  "language_info": {
   "codemirror_mode": {
    "name": "ipython",
    "version": 3
   },
   "file_extension": ".py",
   "mimetype": "text/x-python",
   "name": "python",
   "nbconvert_exporter": "python",
   "pygments_lexer": "ipython3",
   "version": "3.7.5"
  }
 },
 "nbformat": 4,
 "nbformat_minor": 4
}
