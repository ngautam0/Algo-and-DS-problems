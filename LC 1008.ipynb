{
 "cells": [
  {
   "cell_type": "markdown",
   "metadata": {},
   "source": [
    "# 1008. Construct Binary Search Tree from Preorder Traversal"
   ]
  },
  {
   "cell_type": "markdown",
   "metadata": {},
   "source": [
    "Return the root node of a binary search tree that matches the given preorder traversal.\n",
    "\n",
    "(Recall that a binary search tree is a binary tree where for every node, any descendant of node.left has a value < node.val, and any descendant of node.right has a value > node.val.  Also recall that a preorder traversal displays the value of the node first, then traverses node.left, then traverses node.right.)\n",
    "\n",
    " \n",
    "```\n",
    "Example 1:\n",
    "\n",
    "Input: [8,5,1,7,10,12]\n",
    "Output: [8,5,10,1,7,null,12]\n",
    "\n",
    " \n",
    "\n",
    "Note: \n",
    "\n",
    "1 <= preorder.length <= 100\n",
    "The values of preorder are distinct.\n",
    "```"
   ]
  },
  {
   "cell_type": "code",
   "execution_count": 1,
   "metadata": {},
   "outputs": [],
   "source": [
    "# Definition for a binary tree node.\n",
    "\n",
    "from typing import List\n",
    "\n",
    "class TreeNode:\n",
    "    def __init__(self, x):\n",
    "        self.val = x\n",
    "        self.left = None\n",
    "        self.right = None\n",
    "\n",
    "class Solution:\n",
    "    def bstFromPreorder(self, preorder: List[int]) -> TreeNode:\n",
    "        self.root = TreeNode(preorder[0])\n",
    "        \n",
    "        for item in preorder[1:]:\n",
    "            self.insertAtCorrectSpot(item, self.root)\n",
    "        \n",
    "        return self.root\n",
    "    \n",
    "    def insertAtCorrectSpot(self, item, root) -> TreeNode:\n",
    "        while True:\n",
    "            if item < root.val:\n",
    "                if root.left:\n",
    "                    root = root.left\n",
    "                else:\n",
    "                    root.left = TreeNode(item)\n",
    "                    break\n",
    "            else:\n",
    "                if root.right:\n",
    "                    root = root.right\n",
    "                else:\n",
    "                    root.right = TreeNode(item)\n",
    "                    break\n",
    "        "
   ]
  }
 ],
 "metadata": {
  "kernelspec": {
   "display_name": "Python 3",
   "language": "python",
   "name": "python3"
  },
  "language_info": {
   "codemirror_mode": {
    "name": "ipython",
    "version": 3
   },
   "file_extension": ".py",
   "mimetype": "text/x-python",
   "name": "python",
   "nbconvert_exporter": "python",
   "pygments_lexer": "ipython3",
   "version": "3.7.5"
  }
 },
 "nbformat": 4,
 "nbformat_minor": 4
}
