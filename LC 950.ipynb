{
 "cells": [
  {
   "cell_type": "markdown",
   "metadata": {},
   "source": [
    "# 950. Reveal Cards In Increasing Order"
   ]
  },
  {
   "cell_type": "markdown",
   "metadata": {},
   "source": [
    "In a deck of cards, every card has a unique integer.  You can order the deck in any order you want.\n",
    "\n",
    "Initially, all the cards start face down (unrevealed) in one deck.\n",
    "\n",
    "Now, you do the following steps repeatedly, until all cards are revealed:\n",
    "\n",
    "Take the top card of the deck, reveal it, and take it out of the deck.\n",
    "If there are still cards in the deck, put the next top card of the deck at the bottom of the deck.\n",
    "If there are still unrevealed cards, go back to step 1.  Otherwise, stop.\n",
    "Return an ordering of the deck that would reveal the cards in increasing order.\n",
    "\n",
    "The first entry in the answer is considered to be the top of the deck.\n",
    "\n",
    " \n",
    "```\n",
    "Example 1:\n",
    "\n",
    "Input: [17,13,11,2,3,5,7]\n",
    "Output: [2,13,3,11,5,17,7]\n",
    "Explanation: \n",
    "We get the deck in the order [17,13,11,2,3,5,7] (this order doesn't matter), and reorder it.\n",
    "After reordering, the deck starts as [2,13,3,11,5,17,7], where 2 is the top of the deck.\n",
    "We reveal 2, and move 13 to the bottom.  The deck is now [3,11,5,17,7,13].\n",
    "We reveal 3, and move 11 to the bottom.  The deck is now [5,17,7,13,11].\n",
    "We reveal 5, and move 17 to the bottom.  The deck is now [7,13,11,17].\n",
    "We reveal 7, and move 13 to the bottom.  The deck is now [11,17,13].\n",
    "We reveal 11, and move 17 to the bottom.  The deck is now [13,17].\n",
    "We reveal 13, and move 17 to the bottom.  The deck is now [17].\n",
    "We reveal 17.\n",
    "Since all the cards revealed are in increasing order, the answer is correct.\n",
    "```"
   ]
  },
  {
   "cell_type": "code",
   "execution_count": 1,
   "metadata": {},
   "outputs": [],
   "source": [
    "class Solution(object):\n",
    "    def deckRevealedIncreasing(self, deck):\n",
    "        deck.sort()\n",
    "        length = len(deck)\n",
    "        queue = collections.deque(range(length))\n",
    "        \n",
    "        result = [None] * length\n",
    "        \n",
    "        for each in deck:\n",
    "            result[queue.popleft()] = each\n",
    "            \n",
    "            if queue:\n",
    "                queue.append(queue.popleft())\n",
    "                \n",
    "        \n",
    "        return result"
   ]
  }
 ],
 "metadata": {
  "kernelspec": {
   "display_name": "Python 3",
   "language": "python",
   "name": "python3"
  },
  "language_info": {
   "codemirror_mode": {
    "name": "ipython",
    "version": 3
   },
   "file_extension": ".py",
   "mimetype": "text/x-python",
   "name": "python",
   "nbconvert_exporter": "python",
   "pygments_lexer": "ipython3",
   "version": "3.7.5"
  }
 },
 "nbformat": 4,
 "nbformat_minor": 4
}
