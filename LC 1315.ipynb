{
 "cells": [
  {
   "cell_type": "markdown",
   "metadata": {},
   "source": [
    "# 1315. Sum of Nodes with Even-Valued Grandparent\n"
   ]
  },
  {
   "cell_type": "code",
   "execution_count": null,
   "metadata": {},
   "outputs": [],
   "source": [
    "# Definition for a binary tree node.\n",
    "class TreeNode:\n",
    "    def __init__(self, x):\n",
    "        self.val = x\n",
    "        self.left = None\n",
    "        self.right = None\n",
    "\n",
    "class Solution:\n",
    "    def sumEvenGrandparent(self, root: TreeNode) -> int:\n",
    "        self.res = 0\n",
    "        self.findSumDfs(root)\n",
    "        return self.res\n",
    "    \n",
    "    def findSumDfs(self, root, pvalue = -1, gpvalue = -1):\n",
    "        if root:\n",
    "            if gpvalue % 2 == 0:\n",
    "                self.res += root.val\n",
    "        else:\n",
    "            return\n",
    "        \n",
    "        self.findSumDfs(root.left, root.val, pvalue)\n",
    "        self.findSumDfs(root.right, root.val, pvalue)"
   ]
  },
  {
   "cell_type": "code",
   "execution_count": null,
   "metadata": {},
   "outputs": [],
   "source": []
  }
 ],
 "metadata": {
  "kernelspec": {
   "display_name": "Python 3",
   "language": "python",
   "name": "python3"
  },
  "language_info": {
   "codemirror_mode": {
    "name": "ipython",
    "version": 3
   },
   "file_extension": ".py",
   "mimetype": "text/x-python",
   "name": "python",
   "nbconvert_exporter": "python",
   "pygments_lexer": "ipython3",
   "version": "3.7.5"
  }
 },
 "nbformat": 4,
 "nbformat_minor": 4
}
