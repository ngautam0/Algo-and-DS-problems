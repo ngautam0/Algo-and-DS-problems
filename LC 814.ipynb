{
 "cells": [
  {
   "cell_type": "markdown",
   "metadata": {},
   "source": [
    "# 814. Binary Tree Pruning"
   ]
  },
  {
   "cell_type": "markdown",
   "metadata": {},
   "source": [
    "We are given the head node root of a binary tree, where additionally every node's value is either a 0 or a 1.\n",
    "\n",
    "Return the same tree where every subtree (of the given tree) not containing a 1 has been removed.\n",
    "\n",
    "(Recall that the subtree of a node X is X, plus every node that is a descendant of X.)\n",
    "\n",
    "```\n",
    "Example 1:\n",
    "Input: [1,null,0,0,1]\n",
    "Output: [1,null,0,null,1]\n",
    " \n",
    "Explanation: \n",
    "Only the red nodes satisfy the property \"every subtree not containing a 1\".\n",
    "The diagram on the right represents the answer.\n",
    "\n",
    "Example 2:\n",
    "Input: [1,0,1,0,0,0,1]\n",
    "Output: [1,null,1,null,1]\n",
    "\n",
    "\n",
    "\n",
    "Example 3:\n",
    "Input: [1,1,0,1,1,0,1,0]\n",
    "Output: [1,1,0,1,1,null,1]\n",
    "\n",
    "\n",
    "The binary tree will have at most 100 nodes.\n",
    "The value of each node will only be 0 or 1.\n",
    "```"
   ]
  },
  {
   "cell_type": "code",
   "execution_count": 1,
   "metadata": {},
   "outputs": [],
   "source": [
    "# Definition for a binary tree node.\n",
    "class TreeNode:\n",
    "    def __init__(self, x):\n",
    "        self.val = x\n",
    "        self.left = None\n",
    "        self.right = None\n",
    "\n",
    "class Solution:\n",
    "    def pruneTree(self, root: TreeNode) -> TreeNode:\n",
    "        if not root.val and not root.right and not root.left:\n",
    "            return None\n",
    "        \n",
    "        self.recurseAndPrune(root, root)\n",
    "        return root\n",
    "        \n",
    "        \n",
    "    def recurseAndPrune(self, root, parent):\n",
    "        if not root:\n",
    "            return\n",
    "        \n",
    "        self.recurseAndPrune(root.left, root)\n",
    "        self.recurseAndPrune(root.right, root)\n",
    "\n",
    "\n",
    "        if not root.val and not root.right and not root.left:\n",
    "            if parent.left == root:\n",
    "                parent.left = None\n",
    "            else:\n",
    "                parent.right = None\n",
    "            \n",
    "            \n",
    "        "
   ]
  }
 ],
 "metadata": {
  "kernelspec": {
   "display_name": "Python 3",
   "language": "python",
   "name": "python3"
  },
  "language_info": {
   "codemirror_mode": {
    "name": "ipython",
    "version": 3
   },
   "file_extension": ".py",
   "mimetype": "text/x-python",
   "name": "python",
   "nbconvert_exporter": "python",
   "pygments_lexer": "ipython3",
   "version": "3.7.5"
  }
 },
 "nbformat": 4,
 "nbformat_minor": 4
}
