{
 "cells": [
  {
   "cell_type": "markdown",
   "metadata": {},
   "source": [
    "# 701. Insert into a Binary Search Tree\n"
   ]
  },
  {
   "cell_type": "markdown",
   "metadata": {},
   "source": [
    "Given the root node of a binary search tree (BST) and a value to be inserted into the tree, insert the value into the BST. Return the root node of the BST after the insertion. It is guaranteed that the new value does not exist in the original BST.\n",
    "\n",
    "Note that there may exist multiple valid ways for the insertion, as long as the tree remains a BST after insertion. You can return any of them."
   ]
  },
  {
   "cell_type": "markdown",
   "metadata": {},
   "source": [
    "Given the tree:\n",
    "```\n",
    "        4\n",
    "       / \\\n",
    "      2   7\n",
    "     / \\\n",
    "    1   3\n",
    "```\n",
    "And the value to insert: 5"
   ]
  },
  {
   "cell_type": "markdown",
   "metadata": {},
   "source": [
    "You can return this binary search tree:\n",
    "```\n",
    "         4\n",
    "       /   \\\n",
    "      2     7\n",
    "     / \\   /\n",
    "    1   3 5\n",
    "```\n",
    "This tree is also valid:\n",
    "```\n",
    "\n",
    "         5\n",
    "       /   \\\n",
    "      2     7\n",
    "     / \\   \n",
    "    1   3\n",
    "         \\\n",
    "          4\n",
    "```"
   ]
  },
  {
   "cell_type": "code",
   "execution_count": 1,
   "metadata": {},
   "outputs": [],
   "source": [
    "# Definition for a binary tree node.\n",
    "class TreeNode:\n",
    "    def __init__(self, x):\n",
    "        self.val = x\n",
    "        self.left = None\n",
    "        self.right = None\n",
    "\n",
    "class Solution:\n",
    "    def insertIntoBST(self, root: TreeNode, val: int) -> TreeNode:\n",
    "        \n",
    "        root_placeholder = root\n",
    "        \n",
    "        while root_placeholder:\n",
    "            current_pos = root_placeholder\n",
    "            \n",
    "            if val > root_placeholder.val:\n",
    "                root_placeholder = root_placeholder.right\n",
    "            else:\n",
    "                root_placeholder = root_placeholder.left\n",
    "            \n",
    "        \n",
    "        if val > current_pos.val:\n",
    "            current_pos.right = TreeNode(val)\n",
    "        else:\n",
    "            current_pos.left = TreeNode(val)\n",
    "        \n",
    "        return root"
   ]
  },
  {
   "cell_type": "code",
   "execution_count": null,
   "metadata": {},
   "outputs": [],
   "source": []
  }
 ],
 "metadata": {
  "kernelspec": {
   "display_name": "Python 3",
   "language": "python",
   "name": "python3"
  },
  "language_info": {
   "codemirror_mode": {
    "name": "ipython",
    "version": 3
   },
   "file_extension": ".py",
   "mimetype": "text/x-python",
   "name": "python",
   "nbconvert_exporter": "python",
   "pygments_lexer": "ipython3",
   "version": "3.7.5"
  }
 },
 "nbformat": 4,
 "nbformat_minor": 4
}
