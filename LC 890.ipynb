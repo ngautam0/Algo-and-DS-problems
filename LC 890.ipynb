{
 "cells": [
  {
   "cell_type": "markdown",
   "metadata": {},
   "source": [
    "# 890. Find and Replace Pattern"
   ]
  },
  {
   "cell_type": "markdown",
   "metadata": {},
   "source": [
    "You have a list of words and a pattern, and you want to know which words in words matches the pattern.\n",
    "\n",
    "A word matches the pattern if there exists a permutation of letters p so that after replacing every letter x in the pattern with p(x), we get the desired word.\n",
    "\n",
    "(Recall that a permutation of letters is a bijection from letters to letters: every letter maps to another letter, and no two letters map to the same letter.)\n",
    "\n",
    "Return a list of the words in words that match the given pattern. \n",
    "\n",
    "You may return the answer in any order.\n",
    "\n",
    " \n",
    "\n",
    "Example 1:\n",
    "```\n",
    "Input: words = [\"abc\",\"deq\",\"mee\",\"aqq\",\"dkd\",\"ccc\"], pattern = \"abb\"\n",
    "Output: [\"mee\",\"aqq\"]\n",
    "Explanation: \"mee\" matches the pattern because there is a permutation {a -> m, b -> e, ...}. \n",
    "\"ccc\" does not match the pattern because {a -> c, b -> c, ...} is not a permutation,\n",
    "since a and b map to the same letter.\n",
    "```"
   ]
  },
  {
   "cell_type": "code",
   "execution_count": 1,
   "metadata": {},
   "outputs": [],
   "source": [
    "from typing import List\n",
    "\n",
    "class Solution:\n",
    "    def findAndReplacePattern(self, words: List[str], pattern: str) -> List[str]:\n",
    "        \n",
    "        result = []\n",
    "        \n",
    "        for word in words:\n",
    "            if self.__checkIfIsAPermutation__(word, pattern):\n",
    "                result.append(word)\n",
    "        \n",
    "        return result\n",
    "        \n",
    "    def __checkIfIsAPermutation__(self, word, pattern):\n",
    "        \n",
    "        word_to_pattern = dict()\n",
    "        pattern_to_word = dict()\n",
    "        \n",
    "        for char_word, char_pattern in zip(word, pattern):\n",
    "            \n",
    "            if word_to_pattern.get(char_word):\n",
    "                if word_to_pattern[char_word] == char_pattern:\n",
    "                    continue\n",
    "                else:\n",
    "                    return False\n",
    "            \n",
    "            elif pattern_to_word.get(char_pattern):\n",
    "                if pattern_to_word[char_pattern] == char_word:\n",
    "                    continue\n",
    "                else:\n",
    "                    return False\n",
    "            \n",
    "            else:\n",
    "                word_to_pattern[char_word] = char_pattern\n",
    "                pattern_to_word[char_pattern] = char_word\n",
    "        \n",
    "        return True"
   ]
  }
 ],
 "metadata": {
  "kernelspec": {
   "display_name": "Python 3",
   "language": "python",
   "name": "python3"
  },
  "language_info": {
   "codemirror_mode": {
    "name": "ipython",
    "version": 3
   },
   "file_extension": ".py",
   "mimetype": "text/x-python",
   "name": "python",
   "nbconvert_exporter": "python",
   "pygments_lexer": "ipython3",
   "version": "3.6.9"
  }
 },
 "nbformat": 4,
 "nbformat_minor": 4
}
